{
  "nbformat": 4,
  "nbformat_minor": 0,
  "metadata": {
    "accelerator": "GPU",
    "colab": {
      "name": "CNN-mnist.ipynb",
      "provenance": []
    },
    "kernelspec": {
      "display_name": "Python 3",
      "name": "python3"
    },
    "language_info": {
      "name": "python"
    }
  },
  "cells": [
    {
      "cell_type": "markdown",
      "metadata": {
        "id": "f-z9MzzbVU0t"
      },
      "source": [
        "# **Digits image (MNIST DATASET) Classfication CNNs**"
      ]
    },
    {
      "cell_type": "markdown",
      "metadata": {
        "id": "DWN6d7LGVqNz"
      },
      "source": [
        "**Step 0 Load Mnist dataset**"
      ]
    },
    {
      "cell_type": "code",
      "metadata": {
        "id": "AcVApnLyVpzY"
      },
      "source": [
        "import tensorflow\n",
        "from keras.datasets import mnist\n",
        "(X_train, y_train), (X_test, y_test) = mnist.load_data()"
      ],
      "execution_count": 10,
      "outputs": []
    },
    {
      "cell_type": "markdown",
      "metadata": {
        "id": "G_yVzOMHWY37"
      },
      "source": [
        "**Step 1 Check the number of images and their dimenstion**"
      ]
    },
    {
      "cell_type": "code",
      "metadata": {
        "colab": {
          "base_uri": "https://localhost:8080/"
        },
        "id": "X9dhbnAtVpkS",
        "outputId": "e70af86b-352f-47a4-e033-a7614bea124a"
      },
      "source": [
        "print(\"Training Dataset\")\n",
        "print(X_train.shape)\n",
        "print(y_train.shape)"
      ],
      "execution_count": 11,
      "outputs": [
        {
          "output_type": "stream",
          "name": "stdout",
          "text": [
            "Training Dataset\n",
            "(60000, 28, 28)\n",
            "(60000,)\n"
          ]
        }
      ]
    },
    {
      "cell_type": "code",
      "metadata": {
        "colab": {
          "base_uri": "https://localhost:8080/"
        },
        "id": "s2vOpOw8YTIS",
        "outputId": "f55cfae5-7e1d-41f8-eee3-55a6f738cd0a"
      },
      "source": [
        "print(\"Validation Dataset\")\n",
        "print(X_test.shape)\n",
        "print(y_test.shape)"
      ],
      "execution_count": 12,
      "outputs": [
        {
          "output_type": "stream",
          "name": "stdout",
          "text": [
            "Validation Dataset\n",
            "(10000, 28, 28)\n",
            "(10000,)\n"
          ]
        }
      ]
    },
    {
      "cell_type": "markdown",
      "metadata": {
        "id": "QCVih9FsYhZy"
      },
      "source": [
        "**Step-2 Vizualize a random image an its label in the train set**"
      ]
    },
    {
      "cell_type": "code",
      "metadata": {
        "colab": {
          "base_uri": "https://localhost:8080/",
          "height": 260
        },
        "id": "y0TbQMvpdL9r",
        "outputId": "08cce532-f1c5-4506-beeb-21e56609ceda"
      },
      "source": [
        "import matplotlib.pyplot as plt\n",
        "plt.matshow(X_train[0], cmap='gray')\n",
        "plt.colorbar()\n",
        "plt.show()"
      ],
      "execution_count": 13,
      "outputs": [
        {
          "output_type": "display_data",
          "data": {
            "image/png": "[encoded data removed]",
            "text/plain": [
              "<Figure size 288x288 with 2 Axes>"
            ]
          },
          "metadata": {
            "needs_background": "light"
          }
        }
      ]
    },
    {
      "cell_type": "code",
      "metadata": {
        "colab": {
          "base_uri": "https://localhost:8080/"
        },
        "id": "pGzuJqJVeA2E",
        "outputId": "e0ef7281-7fb6-4256-800c-d23c74e0af08"
      },
      "source": [
        "# Verify that the corresponding \"true\" label is corret\n",
        "print(y_train[0])"
      ],
      "execution_count": 14,
      "outputs": [
        {
          "output_type": "stream",
          "name": "stdout",
          "text": [
            "5\n"
          ]
        }
      ]
    },
    {
      "cell_type": "markdown",
      "metadata": {
        "id": "52rkvKDIewmT"
      },
      "source": [
        "**Step-3 Reshape and normalize the input**\n",
        "\n",
        "\n",
        "*   A 2D CNN model will accpect a 4D input data [number of data,height, width, depth of image]\n",
        "*   So, I reshape each image of dimension[28,28] to [28,28,1]\n",
        "*   Also, the image intensities can be anywhere from 0 to 255 these number to   be between in 0 and 1\n"
      ]
    },
    {
      "cell_type": "code",
      "metadata": {
        "id": "R2eqdCmMeuNb"
      },
      "source": [
        "#add an axis to serve as a channel\n",
        "Xtrain=X_train.reshape((60000,28,28,1))\n",
        "Xtest=X_test.reshape((10000,28,28,1))\n",
        "\n",
        "#Normalize the inputs\n",
        "Xtrain=Xtrain/255\n",
        "Xtest=Xtest/255"
      ],
      "execution_count": 15,
      "outputs": []
    },
    {
      "cell_type": "code",
      "metadata": {
        "colab": {
          "base_uri": "https://localhost:8080/",
          "height": 264
        },
        "id": "f1WJufwYiXwJ",
        "outputId": "20cdd493-bbc0-4a19-c2b8-a57f3928a403"
      },
      "source": [
        "plt.matshow(Xtrain[0, :,:,0], cmap='gray')\n",
        "plt.colorbar()\n",
        "plt.show()"
      ],
      "execution_count": 16,
      "outputs": [
        {
          "output_type": "display_data",
          "data": {
            "image/png": "[encoded data removed]",
            "text/plain": [
              "<Figure size 288x288 with 2 Axes>"
            ]
          },
          "metadata": {
            "needs_background": "light"
          }
        }
      ]
    },
    {
      "cell_type": "markdown",
      "metadata": {
        "id": "vE-jeDgZjPZe"
      },
      "source": [
        "**Step -4 Reformate the labels(one-hot encode)**\n",
        "\n",
        "*   one network will have 10 output nodes we need to convert our labels accordingly\n",
        "* Verify that the shape of train_label\n",
        "\n"
      ]
    },
    {
      "cell_type": "code",
      "metadata": {
        "colab": {
          "base_uri": "https://localhost:8080/"
        },
        "id": "1mw7pIowkOkR",
        "outputId": "8a06124f-908a-4ea3-a895-e58584a1d88e"
      },
      "source": [
        "print(\"Before:\")\n",
        "print(y_train.shape)\n",
        "print(y_train[0])"
      ],
      "execution_count": 17,
      "outputs": [
        {
          "output_type": "stream",
          "name": "stdout",
          "text": [
            "Before:\n",
            "(60000,)\n",
            "5\n"
          ]
        }
      ]
    },
    {
      "cell_type": "code",
      "metadata": {
        "id": "63huhyTwklYx"
      },
      "source": [
        "#one hot encode output the label \n",
        "ytrain=tensorflow.keras.utils.to_categorical(y_train)\n",
        "ytest=tensorflow.keras.utils.to_categorical(y_test)\n"
      ],
      "execution_count": 18,
      "outputs": []
    },
    {
      "cell_type": "code",
      "metadata": {
        "colab": {
          "base_uri": "https://localhost:8080/"
        },
        "id": "JOgvkKzdlQX5",
        "outputId": "dbbf2984-4936-49ef-9652-b22d742cb8c1"
      },
      "source": [
        "print(\"After:\")\n",
        "print(ytrain.shape)\n",
        "print(ytrain[0])"
      ],
      "execution_count": 19,
      "outputs": [
        {
          "output_type": "stream",
          "name": "stdout",
          "text": [
            "After:\n",
            "(60000, 10)\n",
            "[0. 0. 0. 0. 0. 1. 0. 0. 0. 0.]\n"
          ]
        }
      ]
    },
    {
      "cell_type": "markdown",
      "metadata": {
        "id": "XJUKNHEYlwPp"
      },
      "source": [
        "**Step -5 Create a nural network with architecture**\n",
        "\n",
        "\n",
        "1.   The first layer has 16 filters and each of size 3X3\n",
        "2.   The second layer has 16 filters and each of size 3X3\n",
        "3.   The last layer is a set of 10 nerouns one for each of 10 digits\n",
        "\n",
        "Dense layer to achive digit identification --CNN dekiver better accuracy.\n",
        "Conv2D is the convolution layer - Conv2D(filters,(filter_height,filter_width),(activation),(input_shape)"
      ]
    },
    {
      "cell_type": "code",
      "metadata": {
        "colab": {
          "base_uri": "https://localhost:8080/"
        },
        "id": "qaatabzjlvqV",
        "outputId": "a7ceb9a1-ad44-4d53-9600-273db00f8aff"
      },
      "source": [
        "from tensorflow.keras.models import Sequential\n",
        "from tensorflow.keras.layers import Dense, Conv2D, Flatten\n",
        "\n",
        "model = Sequential()\n",
        "model.add(Conv2D(16, (3,3), activation='relu', input_shape= Xtrain[0,:,:,:].shape))\n",
        "model.add(Conv2D(4, (3,3), activation='relu'))\n",
        "model.add(Flatten())\n",
        "model.add(Dense(10, activation='relu'))\n",
        "model.add(Dense(10, activation='softmax'))\n",
        "model.summary()"
      ],
      "execution_count": 20,
      "outputs": [
        {
          "output_type": "stream",
          "name": "stdout",
          "text": [
            "Model: \"sequential\"\n",
            "_________________________________________________________________\n",
            "Layer (type)                 Output Shape              Param #   \n",
            "=================================================================\n",
            "conv2d (Conv2D)              (None, 26, 26, 16)        160       \n",
            "_________________________________________________________________\n",
            "conv2d_1 (Conv2D)            (None, 24, 24, 4)         580       \n",
            "_________________________________________________________________\n",
            "flatten (Flatten)            (None, 2304)              0         \n",
            "_________________________________________________________________\n",
            "dense (Dense)                (None, 10)                23050     \n",
            "_________________________________________________________________\n",
            "dense_1 (Dense)              (None, 10)                110       \n",
            "=================================================================\n",
            "Total params: 23,900\n",
            "Trainable params: 23,900\n",
            "Non-trainable params: 0\n",
            "_________________________________________________________________\n"
          ]
        }
      ]
    },
    {
      "cell_type": "markdown",
      "metadata": {
        "id": "3rec8O3zqkfC"
      },
      "source": [
        "**Compile and train the model**"
      ]
    },
    {
      "cell_type": "code",
      "metadata": {
        "colab": {
          "base_uri": "https://localhost:8080/"
        },
        "id": "h9Fq_E36-lXs",
        "outputId": "74fc28ac-a2a0-4592-8909-8ff9729e9a7f"
      },
      "source": [
        "# compiling the sequential model\n",
        "model.compile(optimizer='adam', loss='categorical_crossentropy', metrics=['accuracy'])\n",
        "# training the model for 5 epochs\n",
        "history=model.fit(Xtrain, ytrain, validation_data=(Xtest, ytest),batch_size=64, epochs=100)"
      ],
      "execution_count": 21,
      "outputs": [
        {
          "output_type": "stream",
          "name": "stdout",
          "text": [
            "Epoch 1/100\n",
            "938/938 [==============================] - 39s 8ms/step - loss: 0.4171 - accuracy: 0.8714 - val_loss: 0.1914 - val_accuracy: 0.9436\n",
            "Epoch 2/100\n",
            "938/938 [==============================] - 7s 7ms/step - loss: 0.1459 - accuracy: 0.9573 - val_loss: 0.1248 - val_accuracy: 0.9642\n",
            "Epoch 3/100\n",
            "938/938 [==============================] - 7s 7ms/step - loss: 0.0992 - accuracy: 0.9707 - val_loss: 0.0977 - val_accuracy: 0.9706\n",
            "Epoch 4/100\n",
            "938/938 [==============================] - 7s 7ms/step - loss: 0.0812 - accuracy: 0.9756 - val_loss: 0.0767 - val_accuracy: 0.9762\n",
            "Epoch 5/100\n",
            "938/938 [==============================] - 6s 7ms/step - loss: 0.0703 - accuracy: 0.9787 - val_loss: 0.0739 - val_accuracy: 0.9769\n",
            "Epoch 6/100\n",
            "938/938 [==============================] - 7s 7ms/step - loss: 0.0620 - accuracy: 0.9807 - val_loss: 0.0660 - val_accuracy: 0.9799\n",
            "Epoch 7/100\n",
            "938/938 [==============================] - 7s 7ms/step - loss: 0.0565 - accuracy: 0.9829 - val_loss: 0.0680 - val_accuracy: 0.9796\n",
            "Epoch 8/100\n",
            "938/938 [==============================] - 7s 7ms/step - loss: 0.0498 - accuracy: 0.9846 - val_loss: 0.0681 - val_accuracy: 0.9783\n",
            "Epoch 9/100\n",
            "938/938 [==============================] - 7s 7ms/step - loss: 0.0454 - accuracy: 0.9862 - val_loss: 0.0703 - val_accuracy: 0.9791\n",
            "Epoch 10/100\n",
            "938/938 [==============================] - 6s 7ms/step - loss: 0.0431 - accuracy: 0.9862 - val_loss: 0.0725 - val_accuracy: 0.9788\n",
            "Epoch 11/100\n",
            "938/938 [==============================] - 7s 7ms/step - loss: 0.0369 - accuracy: 0.9882 - val_loss: 0.0702 - val_accuracy: 0.9806\n",
            "Epoch 12/100\n",
            "938/938 [==============================] - 7s 7ms/step - loss: 0.0349 - accuracy: 0.9890 - val_loss: 0.0839 - val_accuracy: 0.9767\n",
            "Epoch 13/100\n",
            "938/938 [==============================] - 7s 7ms/step - loss: 0.0310 - accuracy: 0.9896 - val_loss: 0.0712 - val_accuracy: 0.9801\n",
            "Epoch 14/100\n",
            "938/938 [==============================] - 6s 7ms/step - loss: 0.0296 - accuracy: 0.9908 - val_loss: 0.0764 - val_accuracy: 0.9811\n",
            "Epoch 15/100\n",
            "938/938 [==============================] - 7s 7ms/step - loss: 0.0273 - accuracy: 0.9909 - val_loss: 0.0748 - val_accuracy: 0.9810\n",
            "Epoch 16/100\n",
            "938/938 [==============================] - 7s 7ms/step - loss: 0.0245 - accuracy: 0.9923 - val_loss: 0.0800 - val_accuracy: 0.9804\n",
            "Epoch 17/100\n",
            "938/938 [==============================] - 7s 7ms/step - loss: 0.0228 - accuracy: 0.9924 - val_loss: 0.0816 - val_accuracy: 0.9788\n",
            "Epoch 18/100\n",
            "938/938 [==============================] - 7s 7ms/step - loss: 0.0224 - accuracy: 0.9924 - val_loss: 0.0879 - val_accuracy: 0.9788\n",
            "Epoch 19/100\n",
            "938/938 [==============================] - 7s 7ms/step - loss: 0.0182 - accuracy: 0.9937 - val_loss: 0.0856 - val_accuracy: 0.9795\n",
            "Epoch 20/100\n",
            "938/938 [==============================] - 6s 7ms/step - loss: 0.0185 - accuracy: 0.9936 - val_loss: 0.0902 - val_accuracy: 0.9789\n",
            "Epoch 21/100\n",
            "938/938 [==============================] - 7s 7ms/step - loss: 0.0167 - accuracy: 0.9942 - val_loss: 0.0911 - val_accuracy: 0.9804\n",
            "Epoch 22/100\n",
            "938/938 [==============================] - 7s 7ms/step - loss: 0.0155 - accuracy: 0.9951 - val_loss: 0.1017 - val_accuracy: 0.9782\n",
            "Epoch 23/100\n",
            "938/938 [==============================] - 6s 7ms/step - loss: 0.0156 - accuracy: 0.9943 - val_loss: 0.0965 - val_accuracy: 0.9802\n",
            "Epoch 24/100\n",
            "938/938 [==============================] - 7s 7ms/step - loss: 0.0129 - accuracy: 0.9957 - val_loss: 0.1317 - val_accuracy: 0.9742\n",
            "Epoch 25/100\n",
            "938/938 [==============================] - 7s 7ms/step - loss: 0.0140 - accuracy: 0.9951 - val_loss: 0.1158 - val_accuracy: 0.9782\n",
            "Epoch 26/100\n",
            "938/938 [==============================] - 6s 7ms/step - loss: 0.0120 - accuracy: 0.9957 - val_loss: 0.1102 - val_accuracy: 0.9786\n",
            "Epoch 27/100\n",
            "938/938 [==============================] - 6s 7ms/step - loss: 0.0101 - accuracy: 0.9963 - val_loss: 0.1159 - val_accuracy: 0.9785\n",
            "Epoch 28/100\n",
            "938/938 [==============================] - 7s 7ms/step - loss: 0.0114 - accuracy: 0.9963 - val_loss: 0.1192 - val_accuracy: 0.9779\n",
            "Epoch 29/100\n",
            "938/938 [==============================] - 6s 7ms/step - loss: 0.0091 - accuracy: 0.9969 - val_loss: 0.1321 - val_accuracy: 0.9766\n",
            "Epoch 30/100\n",
            "938/938 [==============================] - 7s 7ms/step - loss: 0.0112 - accuracy: 0.9961 - val_loss: 0.1180 - val_accuracy: 0.9785\n",
            "Epoch 31/100\n",
            "938/938 [==============================] - 7s 7ms/step - loss: 0.0065 - accuracy: 0.9979 - val_loss: 0.1278 - val_accuracy: 0.9792\n",
            "Epoch 32/100\n",
            "938/938 [==============================] - 7s 7ms/step - loss: 0.0110 - accuracy: 0.9961 - val_loss: 0.1451 - val_accuracy: 0.9761\n",
            "Epoch 33/100\n",
            "938/938 [==============================] - 7s 7ms/step - loss: 0.0081 - accuracy: 0.9971 - val_loss: 0.1600 - val_accuracy: 0.9742\n",
            "Epoch 34/100\n",
            "938/938 [==============================] - 7s 7ms/step - loss: 0.0091 - accuracy: 0.9966 - val_loss: 0.1281 - val_accuracy: 0.9784\n",
            "Epoch 35/100\n",
            "938/938 [==============================] - 7s 7ms/step - loss: 0.0082 - accuracy: 0.9970 - val_loss: 0.1267 - val_accuracy: 0.9798\n",
            "Epoch 36/100\n",
            "938/938 [==============================] - 7s 7ms/step - loss: 0.0086 - accuracy: 0.9970 - val_loss: 0.1326 - val_accuracy: 0.9802\n",
            "Epoch 37/100\n",
            "938/938 [==============================] - 7s 7ms/step - loss: 0.0061 - accuracy: 0.9981 - val_loss: 0.1530 - val_accuracy: 0.9772\n",
            "Epoch 38/100\n",
            "938/938 [==============================] - 6s 7ms/step - loss: 0.0084 - accuracy: 0.9972 - val_loss: 0.1422 - val_accuracy: 0.9773\n",
            "Epoch 39/100\n",
            "938/938 [==============================] - 7s 7ms/step - loss: 0.0053 - accuracy: 0.9983 - val_loss: 0.1508 - val_accuracy: 0.9780\n",
            "Epoch 40/100\n",
            "938/938 [==============================] - 7s 7ms/step - loss: 0.0077 - accuracy: 0.9971 - val_loss: 0.1460 - val_accuracy: 0.9797\n",
            "Epoch 41/100\n",
            "938/938 [==============================] - 7s 7ms/step - loss: 0.0084 - accuracy: 0.9970 - val_loss: 0.1455 - val_accuracy: 0.9791\n",
            "Epoch 42/100\n",
            "938/938 [==============================] - 7s 7ms/step - loss: 0.0076 - accuracy: 0.9974 - val_loss: 0.1571 - val_accuracy: 0.9778\n",
            "Epoch 43/100\n",
            "938/938 [==============================] - 7s 7ms/step - loss: 0.0052 - accuracy: 0.9982 - val_loss: 0.1514 - val_accuracy: 0.9786\n",
            "Epoch 44/100\n",
            "938/938 [==============================] - 7s 7ms/step - loss: 0.0042 - accuracy: 0.9986 - val_loss: 0.1768 - val_accuracy: 0.9786\n",
            "Epoch 45/100\n",
            "938/938 [==============================] - 7s 7ms/step - loss: 0.0066 - accuracy: 0.9977 - val_loss: 0.1731 - val_accuracy: 0.9775\n",
            "Epoch 46/100\n",
            "938/938 [==============================] - 7s 7ms/step - loss: 0.0048 - accuracy: 0.9983 - val_loss: 0.1717 - val_accuracy: 0.9769\n",
            "Epoch 47/100\n",
            "938/938 [==============================] - 7s 7ms/step - loss: 0.0064 - accuracy: 0.9978 - val_loss: 0.1763 - val_accuracy: 0.9764\n",
            "Epoch 48/100\n",
            "938/938 [==============================] - 7s 7ms/step - loss: 0.0062 - accuracy: 0.9980 - val_loss: 0.1710 - val_accuracy: 0.9770\n",
            "Epoch 49/100\n",
            "938/938 [==============================] - 7s 7ms/step - loss: 0.0030 - accuracy: 0.9990 - val_loss: 0.1732 - val_accuracy: 0.9776\n",
            "Epoch 50/100\n",
            "938/938 [==============================] - 7s 7ms/step - loss: 0.0074 - accuracy: 0.9974 - val_loss: 0.1678 - val_accuracy: 0.9773\n",
            "Epoch 51/100\n",
            "938/938 [==============================] - 7s 7ms/step - loss: 0.0040 - accuracy: 0.9988 - val_loss: 0.1667 - val_accuracy: 0.9786\n",
            "Epoch 52/100\n",
            "938/938 [==============================] - 7s 7ms/step - loss: 0.0026 - accuracy: 0.9991 - val_loss: 0.1869 - val_accuracy: 0.9769\n",
            "Epoch 53/100\n",
            "938/938 [==============================] - 7s 7ms/step - loss: 0.0057 - accuracy: 0.9978 - val_loss: 0.1918 - val_accuracy: 0.9780\n",
            "Epoch 54/100\n",
            "938/938 [==============================] - 7s 7ms/step - loss: 0.0052 - accuracy: 0.9981 - val_loss: 0.1921 - val_accuracy: 0.9791\n",
            "Epoch 55/100\n",
            "938/938 [==============================] - 7s 7ms/step - loss: 0.0039 - accuracy: 0.9987 - val_loss: 0.1769 - val_accuracy: 0.9778\n",
            "Epoch 56/100\n",
            "938/938 [==============================] - 7s 7ms/step - loss: 0.0044 - accuracy: 0.9985 - val_loss: 0.1814 - val_accuracy: 0.9781\n",
            "Epoch 57/100\n",
            "938/938 [==============================] - 7s 7ms/step - loss: 0.0057 - accuracy: 0.9981 - val_loss: 0.1829 - val_accuracy: 0.9789\n",
            "Epoch 58/100\n",
            "938/938 [==============================] - 7s 7ms/step - loss: 0.0058 - accuracy: 0.9979 - val_loss: 0.1788 - val_accuracy: 0.9790\n",
            "Epoch 59/100\n",
            "938/938 [==============================] - 7s 7ms/step - loss: 0.0013 - accuracy: 0.9996 - val_loss: 0.1970 - val_accuracy: 0.9783\n",
            "Epoch 60/100\n",
            "938/938 [==============================] - 7s 7ms/step - loss: 0.0066 - accuracy: 0.9980 - val_loss: 0.1924 - val_accuracy: 0.9769\n",
            "Epoch 61/100\n",
            "938/938 [==============================] - 7s 7ms/step - loss: 0.0035 - accuracy: 0.9988 - val_loss: 0.1762 - val_accuracy: 0.9785\n",
            "Epoch 62/100\n",
            "938/938 [==============================] - 7s 7ms/step - loss: 0.0052 - accuracy: 0.9983 - val_loss: 0.1893 - val_accuracy: 0.9787\n",
            "Epoch 63/100\n",
            "938/938 [==============================] - 7s 7ms/step - loss: 0.0040 - accuracy: 0.9987 - val_loss: 0.2037 - val_accuracy: 0.9778\n",
            "Epoch 64/100\n",
            "938/938 [==============================] - 7s 7ms/step - loss: 0.0025 - accuracy: 0.9991 - val_loss: 0.2094 - val_accuracy: 0.9763\n",
            "Epoch 65/100\n",
            "938/938 [==============================] - 7s 7ms/step - loss: 0.0045 - accuracy: 0.9985 - val_loss: 0.2072 - val_accuracy: 0.9748\n",
            "Epoch 66/100\n",
            "938/938 [==============================] - 7s 7ms/step - loss: 0.0068 - accuracy: 0.9979 - val_loss: 0.1849 - val_accuracy: 0.9792\n",
            "Epoch 67/100\n",
            "938/938 [==============================] - 7s 7ms/step - loss: 0.0018 - accuracy: 0.9993 - val_loss: 0.1937 - val_accuracy: 0.9777\n",
            "Epoch 68/100\n",
            "938/938 [==============================] - 7s 7ms/step - loss: 0.0036 - accuracy: 0.9986 - val_loss: 0.2309 - val_accuracy: 0.9738\n",
            "Epoch 69/100\n",
            "938/938 [==============================] - 7s 7ms/step - loss: 0.0043 - accuracy: 0.9986 - val_loss: 0.2223 - val_accuracy: 0.9768\n",
            "Epoch 70/100\n",
            "938/938 [==============================] - 7s 7ms/step - loss: 0.0057 - accuracy: 0.9983 - val_loss: 0.2067 - val_accuracy: 0.9764\n",
            "Epoch 71/100\n",
            "938/938 [==============================] - 7s 7ms/step - loss: 0.0034 - accuracy: 0.9990 - val_loss: 0.2306 - val_accuracy: 0.9729\n",
            "Epoch 72/100\n",
            "938/938 [==============================] - 7s 7ms/step - loss: 0.0030 - accuracy: 0.9990 - val_loss: 0.2084 - val_accuracy: 0.9783\n",
            "Epoch 73/100\n",
            "938/938 [==============================] - 7s 7ms/step - loss: 0.0030 - accuracy: 0.9989 - val_loss: 0.2089 - val_accuracy: 0.9774\n",
            "Epoch 74/100\n",
            "938/938 [==============================] - 7s 7ms/step - loss: 0.0040 - accuracy: 0.9985 - val_loss: 0.2203 - val_accuracy: 0.9783\n",
            "Epoch 75/100\n",
            "938/938 [==============================] - 7s 7ms/step - loss: 0.0055 - accuracy: 0.9983 - val_loss: 0.2322 - val_accuracy: 0.9760\n",
            "Epoch 76/100\n",
            "938/938 [==============================] - 7s 7ms/step - loss: 0.0030 - accuracy: 0.9991 - val_loss: 0.2503 - val_accuracy: 0.9747\n",
            "Epoch 77/100\n",
            "938/938 [==============================] - 7s 7ms/step - loss: 0.0031 - accuracy: 0.9990 - val_loss: 0.2196 - val_accuracy: 0.9769\n",
            "Epoch 78/100\n",
            "938/938 [==============================] - 7s 7ms/step - loss: 0.0032 - accuracy: 0.9989 - val_loss: 0.2344 - val_accuracy: 0.9762\n",
            "Epoch 79/100\n",
            "938/938 [==============================] - 7s 7ms/step - loss: 0.0056 - accuracy: 0.9983 - val_loss: 0.2329 - val_accuracy: 0.9756\n",
            "Epoch 80/100\n",
            "938/938 [==============================] - 7s 7ms/step - loss: 0.0020 - accuracy: 0.9992 - val_loss: 0.2312 - val_accuracy: 0.9750\n",
            "Epoch 81/100\n",
            "938/938 [==============================] - 7s 7ms/step - loss: 0.0047 - accuracy: 0.9987 - val_loss: 0.2454 - val_accuracy: 0.9745\n",
            "Epoch 82/100\n",
            "938/938 [==============================] - 7s 7ms/step - loss: 0.0031 - accuracy: 0.9988 - val_loss: 0.2302 - val_accuracy: 0.9768\n",
            "Epoch 83/100\n",
            "938/938 [==============================] - 7s 7ms/step - loss: 8.8883e-04 - accuracy: 0.9997 - val_loss: 0.2356 - val_accuracy: 0.9770\n",
            "Epoch 84/100\n",
            "938/938 [==============================] - 7s 7ms/step - loss: 0.0039 - accuracy: 0.9988 - val_loss: 0.2282 - val_accuracy: 0.9762\n",
            "Epoch 85/100\n",
            "938/938 [==============================] - 7s 7ms/step - loss: 0.0042 - accuracy: 0.9986 - val_loss: 0.2279 - val_accuracy: 0.9773\n",
            "Epoch 86/100\n",
            "938/938 [==============================] - 7s 7ms/step - loss: 0.0019 - accuracy: 0.9993 - val_loss: 0.2446 - val_accuracy: 0.9764\n",
            "Epoch 87/100\n",
            "938/938 [==============================] - 7s 7ms/step - loss: 6.5955e-04 - accuracy: 0.9999 - val_loss: 0.2314 - val_accuracy: 0.9781\n",
            "Epoch 88/100\n",
            "938/938 [==============================] - 7s 7ms/step - loss: 0.0058 - accuracy: 0.9981 - val_loss: 0.2383 - val_accuracy: 0.9775\n",
            "Epoch 89/100\n",
            "938/938 [==============================] - 7s 7ms/step - loss: 0.0036 - accuracy: 0.9988 - val_loss: 0.2386 - val_accuracy: 0.9767\n",
            "Epoch 90/100\n",
            "938/938 [==============================] - 7s 7ms/step - loss: 0.0026 - accuracy: 0.9993 - val_loss: 0.2609 - val_accuracy: 0.9762\n",
            "Epoch 91/100\n",
            "938/938 [==============================] - 7s 7ms/step - loss: 0.0029 - accuracy: 0.9990 - val_loss: 0.2411 - val_accuracy: 0.9784\n",
            "Epoch 92/100\n",
            "938/938 [==============================] - 7s 7ms/step - loss: 2.9790e-04 - accuracy: 0.9999 - val_loss: 0.2395 - val_accuracy: 0.9793\n",
            "Epoch 93/100\n",
            "938/938 [==============================] - 7s 7ms/step - loss: 0.0086 - accuracy: 0.9976 - val_loss: 0.2367 - val_accuracy: 0.9769\n",
            "Epoch 94/100\n",
            "938/938 [==============================] - 7s 7ms/step - loss: 0.0022 - accuracy: 0.9992 - val_loss: 0.2267 - val_accuracy: 0.9773\n",
            "Epoch 95/100\n",
            "938/938 [==============================] - 7s 7ms/step - loss: 0.0023 - accuracy: 0.9993 - val_loss: 0.2500 - val_accuracy: 0.9777\n",
            "Epoch 96/100\n",
            "938/938 [==============================] - 7s 7ms/step - loss: 0.0039 - accuracy: 0.9987 - val_loss: 0.2438 - val_accuracy: 0.9784\n",
            "Epoch 97/100\n",
            "938/938 [==============================] - 7s 7ms/step - loss: 6.0909e-04 - accuracy: 0.9998 - val_loss: 0.2484 - val_accuracy: 0.9784\n",
            "Epoch 98/100\n",
            "938/938 [==============================] - 7s 7ms/step - loss: 0.0049 - accuracy: 0.9985 - val_loss: 0.2328 - val_accuracy: 0.9773\n",
            "Epoch 99/100\n",
            "938/938 [==============================] - 7s 7ms/step - loss: 0.0035 - accuracy: 0.9987 - val_loss: 0.2390 - val_accuracy: 0.9780\n",
            "Epoch 100/100\n",
            "938/938 [==============================] - 7s 7ms/step - loss: 0.0013 - accuracy: 0.9996 - val_loss: 0.2518 - val_accuracy: 0.9773\n"
          ]
        }
      ]
    },
    {
      "cell_type": "code",
      "metadata": {
        "colab": {
          "base_uri": "https://localhost:8080/"
        },
        "id": "_vx0zavFEdWl",
        "outputId": "cf390589-9ed6-4c94-8583-5395e207bc50"
      },
      "source": [
        "print(history.params)"
      ],
      "execution_count": 22,
      "outputs": [
        {
          "output_type": "stream",
          "name": "stdout",
          "text": [
            "{'verbose': 1, 'epochs': 100, 'steps': 938}\n"
          ]
        }
      ]
    },
    {
      "cell_type": "code",
      "metadata": {
        "colab": {
          "base_uri": "https://localhost:8080/",
          "height": 279
        },
        "id": "StuUTfsHKUrh",
        "outputId": "b44a3e2c-a9b8-460e-f0d7-892c761dfebd"
      },
      "source": [
        "plt.plot(history.history['accuracy'])\n",
        "plt.plot(history.history['val_accuracy'])\n",
        "plt.ylabel('Accuracy')\n",
        "plt.xlabel('epoch')\n",
        "plt.show()"
      ],
      "execution_count": 23,
      "outputs": [
        {
          "output_type": "display_data",
          "data": {
            "image/png": "[encoded data removed]",
            "text/plain": [
              "<Figure size 432x288 with 1 Axes>"
            ]
          },
          "metadata": {
            "needs_background": "light"
          }
        }
      ]
    }
  ]
}